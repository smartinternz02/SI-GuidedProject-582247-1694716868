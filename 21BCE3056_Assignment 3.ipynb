{
  "cells": [
    {
      "cell_type": "markdown",
      "source": [
        "21BCE3056 Assignment 3"
      ],
      "metadata": {
        "id": "_UmGy67p_XgV"
      },
      "id": "_UmGy67p_XgV"
    },
    {
      "cell_type": "code",
      "execution_count": null,
      "id": "5c514cd7",
      "metadata": {
        "id": "5c514cd7"
      },
      "outputs": [],
      "source": [
        "import pandas as pd\n",
        "import seaborn as sns\n",
        "import matplotlib.pyplot as plt\n",
        "%matplotlib inline"
      ]
    },
    {
      "cell_type": "markdown",
      "id": "b30e4552",
      "metadata": {
        "id": "b30e4552"
      },
      "source": [
        "# importing the data"
      ]
    },
    {
      "cell_type": "code",
      "execution_count": null,
      "id": "d17244b6",
      "metadata": {
        "id": "d17244b6",
        "outputId": "2ce199c4-87e5-42d7-e9fa-2be02e260c87"
      },
      "outputs": [
        {
          "name": "stdout",
          "output_type": "stream",
          "text": [
            "    species     island  culmen_length_mm  culmen_depth_mm  flipper_length_mm  \\\n",
            "0    Adelie  Torgersen              39.1             18.7              181.0   \n",
            "1    Adelie  Torgersen              39.5             17.4              186.0   \n",
            "2    Adelie  Torgersen              40.3             18.0              195.0   \n",
            "3    Adelie  Torgersen               NaN              NaN                NaN   \n",
            "4    Adelie  Torgersen              36.7             19.3              193.0   \n",
            "..      ...        ...               ...              ...                ...   \n",
            "339  Gentoo     Biscoe               NaN              NaN                NaN   \n",
            "340  Gentoo     Biscoe              46.8             14.3              215.0   \n",
            "341  Gentoo     Biscoe              50.4             15.7              222.0   \n",
            "342  Gentoo     Biscoe              45.2             14.8              212.0   \n",
            "343  Gentoo     Biscoe              49.9             16.1              213.0   \n",
            "\n",
            "     body_mass_g     sex  \n",
            "0         3750.0    MALE  \n",
            "1         3800.0  FEMALE  \n",
            "2         3250.0  FEMALE  \n",
            "3            NaN     NaN  \n",
            "4         3450.0  FEMALE  \n",
            "..           ...     ...  \n",
            "339          NaN     NaN  \n",
            "340       4850.0  FEMALE  \n",
            "341       5750.0    MALE  \n",
            "342       5200.0  FEMALE  \n",
            "343       5400.0    MALE  \n",
            "\n",
            "[344 rows x 7 columns]\n"
          ]
        }
      ],
      "source": [
        "df = pd.read_csv(\"penguin.csv\")\n",
        "print(df)"
      ]
    },
    {
      "cell_type": "code",
      "execution_count": null,
      "id": "992e8a9f",
      "metadata": {
        "id": "992e8a9f",
        "outputId": "10c63130-cb9d-4e2a-e68f-815e2f47b5d5"
      },
      "outputs": [
        {
          "data": {
            "text/plain": [
              "Index(['species', 'island', 'culmen_length_mm', 'culmen_depth_mm',\n",
              "       'flipper_length_mm', 'body_mass_g', 'sex'],\n",
              "      dtype='object')"
            ]
          },
          "execution_count": 4,
          "metadata": {},
          "output_type": "execute_result"
        }
      ],
      "source": [
        "df.columns"
      ]
    },
    {
      "cell_type": "code",
      "execution_count": null,
      "id": "13e051fa",
      "metadata": {
        "id": "13e051fa",
        "outputId": "28aa6da6-f277-4243-c6f8-c87c9206f440"
      },
      "outputs": [
        {
          "name": "stdout",
          "output_type": "stream",
          "text": [
            "['species', 'island', 'culmen-length', 'culmen-depth', 'flipper-length', 'body-mass', 'sex']\n"
          ]
        }
      ],
      "source": [
        "new_columns = ['species','island','culmen-length','culmen-depth','flipper-length','body-mass','sex']\n",
        "df.columns = new_columns\n",
        "print(new_columns)"
      ]
    },
    {
      "cell_type": "code",
      "execution_count": null,
      "id": "cfdebc05",
      "metadata": {
        "id": "cfdebc05",
        "outputId": "0b49cee8-dce0-4afc-ca5d-446fdea2cd4b"
      },
      "outputs": [
        {
          "name": "stdout",
          "output_type": "stream",
          "text": [
            "    species     island  culmen-length  culmen-depth  flipper-length  \\\n",
            "0    Adelie  Torgersen           39.1          18.7           181.0   \n",
            "1    Adelie  Torgersen           39.5          17.4           186.0   \n",
            "2    Adelie  Torgersen           40.3          18.0           195.0   \n",
            "3    Adelie  Torgersen            NaN           NaN             NaN   \n",
            "4    Adelie  Torgersen           36.7          19.3           193.0   \n",
            "..      ...        ...            ...           ...             ...   \n",
            "339  Gentoo     Biscoe            NaN           NaN             NaN   \n",
            "340  Gentoo     Biscoe           46.8          14.3           215.0   \n",
            "341  Gentoo     Biscoe           50.4          15.7           222.0   \n",
            "342  Gentoo     Biscoe           45.2          14.8           212.0   \n",
            "343  Gentoo     Biscoe           49.9          16.1           213.0   \n",
            "\n",
            "     body-mass     sex  \n",
            "0       3750.0    MALE  \n",
            "1       3800.0  FEMALE  \n",
            "2       3250.0  FEMALE  \n",
            "3          NaN     NaN  \n",
            "4       3450.0  FEMALE  \n",
            "..         ...     ...  \n",
            "339        NaN     NaN  \n",
            "340     4850.0  FEMALE  \n",
            "341     5750.0    MALE  \n",
            "342     5200.0  FEMALE  \n",
            "343     5400.0    MALE  \n",
            "\n",
            "[344 rows x 7 columns]\n"
          ]
        }
      ],
      "source": [
        "print(df)"
      ]
    },
    {
      "cell_type": "markdown",
      "id": "f50f8bab",
      "metadata": {
        "id": "f50f8bab"
      },
      "source": [
        "# UNIVARIATE ANALYSIS"
      ]
    },
    {
      "cell_type": "code",
      "execution_count": null,
      "id": "4355bed6",
      "metadata": {
        "id": "4355bed6",
        "outputId": "811de6e7-6e7b-4b15-c094-6ec402f94660"
      },
      "outputs": [
        {
          "data": {
            "text/plain": [
              "Text(0.5, 1.0, 'Culmen Depth Histogram')"
            ]
          },
          "execution_count": 7,
          "metadata": {},
          "output_type": "execute_result"
        },
        {
          "data": {
            "image/png": "[encoded data removed]",
            "text/plain": [
              "<Figure size 1200x600 with 2 Axes>"
            ]
          },
          "metadata": {},
          "output_type": "display_data"
        }
      ],
      "source": [
        "plt.figure(figsize=(12, 6))\n",
        "plt.subplot(2, 2, 1)\n",
        "plt.hist(df['culmen-length'].dropna(), bins=20)\n",
        "plt.title('Culmen Length Histogram')\n",
        "\n",
        "plt.subplot(2, 2, 2)\n",
        "plt.hist(df['culmen-depth'].dropna(), bins=20)\n",
        "plt.title('Culmen Depth Histogram')"
      ]
    },
    {
      "cell_type": "code",
      "execution_count": null,
      "id": "336dad8c",
      "metadata": {
        "id": "336dad8c",
        "outputId": "daca3d5f-092e-425e-b3ad-3939b3d411d8"
      },
      "outputs": [
        {
          "data": {
            "text/plain": [
              "Text(0.5, 1.0, 'Island Distribution')"
            ]
          },
          "execution_count": 8,
          "metadata": {},
          "output_type": "execute_result"
        },
        {
          "data": {
            "image/png": "[encoded data removed]",
            "text/plain": [
              "<Figure size 640x480 with 2 Axes>"
            ]
          },
          "metadata": {},
          "output_type": "display_data"
        }
      ],
      "source": [
        "plt.subplot(2, 2, 1)\n",
        "sns.countplot(data=df, x='species')\n",
        "plt.title('Species Distribution')\n",
        "\n",
        "plt.subplot(2, 2, 2)\n",
        "sns.countplot(data=df, x='island')\n",
        "plt.title('Island Distribution')"
      ]
    },
    {
      "cell_type": "markdown",
      "id": "9bafa3de",
      "metadata": {
        "id": "9bafa3de"
      },
      "source": [
        "# BI-VARIATE ANALYSIS"
      ]
    },
    {
      "cell_type": "markdown",
      "id": "54d609f4",
      "metadata": {
        "id": "54d609f4"
      },
      "source": [
        "BOX PLOTS ARE USEFULL FOR KNOWING THE DENSITY OF THE DATA IN BIVARATE ANALYSIS ALSO FOR COMPARISISON BETWEEN TWO\n",
        "ENTITES"
      ]
    },
    {
      "cell_type": "code",
      "execution_count": null,
      "id": "333feb5d",
      "metadata": {
        "id": "333feb5d",
        "outputId": "b7ff37e3-632a-4c79-987f-32610d4cea55"
      },
      "outputs": [
        {
          "data": {
            "text/plain": [
              "Text(0.5, 1.0, 'Body Mass vs. Island')"
            ]
          },
          "execution_count": 9,
          "metadata": {},
          "output_type": "execute_result"
        },
        {
          "data": {
            "image/png": "[encoded data removed]",
            "text/plain": [
              "<Figure size 1000x400 with 2 Axes>"
            ]
          },
          "metadata": {},
          "output_type": "display_data"
        }
      ],
      "source": [
        "plt.figure(figsize=(10, 4))\n",
        "plt.subplot(1, 2, 1)\n",
        "sns.boxplot(data=df, x='species', y='body-mass')\n",
        "plt.title('Body Mass vs. Species')\n",
        "\n",
        "\n",
        "plt.subplot(1, 2, 2)\n",
        "sns.boxplot(data=df, x='island', y='body-mass')\n",
        "plt.title('Body Mass vs. Island')"
      ]
    },
    {
      "cell_type": "markdown",
      "id": "485c95cf",
      "metadata": {
        "id": "485c95cf"
      },
      "source": [
        "# MULTI-VARIATE ANALYSIS [CORRELATION MAP/GRAPH]"
      ]
    },
    {
      "cell_type": "code",
      "execution_count": null,
      "id": "7de062e8",
      "metadata": {
        "id": "7de062e8",
        "outputId": "a6c3b849-4a98-43c5-ad8b-f13f85879144"
      },
      "outputs": [
        {
          "name": "stderr",
          "output_type": "stream",
          "text": [
            "/var/folders/q5/ff22_rgx2kz0h6lkv32wv0000000gn/T/ipykernel_1192/3853220190.py:1: FutureWarning: The default value of numeric_only in DataFrame.corr is deprecated. In a future version, it will default to False. Select only valid columns or specify the value of numeric_only to silence this warning.\n",
            "  correlation = df.corr()\n"
          ]
        }
      ],
      "source": [
        "correlation = df.corr()"
      ]
    },
    {
      "cell_type": "code",
      "execution_count": null,
      "id": "a2ef5933",
      "metadata": {
        "id": "a2ef5933",
        "outputId": "c059de54-bda1-4ad8-fddc-850b96f86ae3"
      },
      "outputs": [
        {
          "name": "stderr",
          "output_type": "stream",
          "text": [
            "/var/folders/q5/ff22_rgx2kz0h6lkv32wv0000000gn/T/ipykernel_1192/1134722465.py:1: FutureWarning: The default value of numeric_only in DataFrame.corr is deprecated. In a future version, it will default to False. Select only valid columns or specify the value of numeric_only to silence this warning.\n",
            "  df.corr()\n"
          ]
        },
        {
          "data": {
            "text/html": [
              "<div>\n",
              "<style scoped>\n",
              "    .dataframe tbody tr th:only-of-type {\n",
              "        vertical-align: middle;\n",
              "    }\n",
              "\n",
              "    .dataframe tbody tr th {\n",
              "        vertical-align: top;\n",
              "    }\n",
              "\n",
              "    .dataframe thead th {\n",
              "        text-align: right;\n",
              "    }\n",
              "</style>\n",
              "<table border=\"1\" class=\"dataframe\">\n",
              "  <thead>\n",
              "    <tr style=\"text-align: right;\">\n",
              "      <th></th>\n",
              "      <th>culmen-length</th>\n",
              "      <th>culmen-depth</th>\n",
              "      <th>flipper-length</th>\n",
              "      <th>body-mass</th>\n",
              "    </tr>\n",
              "  </thead>\n",
              "  <tbody>\n",
              "    <tr>\n",
              "      <th>culmen-length</th>\n",
              "      <td>1.000000</td>\n",
              "      <td>-0.235053</td>\n",
              "      <td>0.656181</td>\n",
              "      <td>0.595110</td>\n",
              "    </tr>\n",
              "    <tr>\n",
              "      <th>culmen-depth</th>\n",
              "      <td>-0.235053</td>\n",
              "      <td>1.000000</td>\n",
              "      <td>-0.583851</td>\n",
              "      <td>-0.471916</td>\n",
              "    </tr>\n",
              "    <tr>\n",
              "      <th>flipper-length</th>\n",
              "      <td>0.656181</td>\n",
              "      <td>-0.583851</td>\n",
              "      <td>1.000000</td>\n",
              "      <td>0.871202</td>\n",
              "    </tr>\n",
              "    <tr>\n",
              "      <th>body-mass</th>\n",
              "      <td>0.595110</td>\n",
              "      <td>-0.471916</td>\n",
              "      <td>0.871202</td>\n",
              "      <td>1.000000</td>\n",
              "    </tr>\n",
              "  </tbody>\n",
              "</table>\n",
              "</div>"
            ],
            "text/plain": [
              "                culmen-length  culmen-depth  flipper-length  body-mass\n",
              "culmen-length        1.000000     -0.235053        0.656181   0.595110\n",
              "culmen-depth        -0.235053      1.000000       -0.583851  -0.471916\n",
              "flipper-length       0.656181     -0.583851        1.000000   0.871202\n",
              "body-mass            0.595110     -0.471916        0.871202   1.000000"
            ]
          },
          "execution_count": 12,
          "metadata": {},
          "output_type": "execute_result"
        }
      ],
      "source": [
        "df.corr()"
      ]
    },
    {
      "cell_type": "code",
      "execution_count": null,
      "id": "738054bb",
      "metadata": {
        "id": "738054bb",
        "outputId": "75f9ee2a-c085-42a3-fc1c-e92a202d416f"
      },
      "outputs": [
        {
          "data": {
            "text/plain": [
              "<Axes: >"
            ]
          },
          "execution_count": 14,
          "metadata": {},
          "output_type": "execute_result"
        },
        {
          "data": {
            "image/png": "[encoded data removed]",
            "text/plain": [
              "<Figure size 1000x600 with 2 Axes>"
            ]
          },
          "metadata": {},
          "output_type": "display_data"
        }
      ],
      "source": [
        "plt.figure(figsize=(10, 6))\n",
        "sns.heatmap(correlation, annot=True, cmap='coolwarm', linewidths=0.5)"
      ]
    },
    {
      "cell_type": "code",
      "execution_count": null,
      "id": "9de52fee",
      "metadata": {
        "id": "9de52fee"
      },
      "outputs": [],
      "source": [
        "## coorelation of data to itself is one\n",
        "## if value with respect to other quantities is cloase to one then it is positivly coorelated to each. other\n",
        "## if value close to 0 then no relate dor less outliner\n",
        "## if values close to -1 then inversly proportional"
      ]
    },
    {
      "cell_type": "markdown",
      "id": "eee7ce61",
      "metadata": {
        "id": "eee7ce61"
      },
      "source": [
        "# DESCRIPTIVE STATISTICS"
      ]
    },
    {
      "cell_type": "code",
      "execution_count": null,
      "id": "526d508d",
      "metadata": {
        "id": "526d508d",
        "outputId": "54c6d3b0-03fc-40db-d4c8-59d9f9414a6f"
      },
      "outputs": [
        {
          "data": {
            "text/html": [
              "<div>\n",
              "<style scoped>\n",
              "    .dataframe tbody tr th:only-of-type {\n",
              "        vertical-align: middle;\n",
              "    }\n",
              "\n",
              "    .dataframe tbody tr th {\n",
              "        vertical-align: top;\n",
              "    }\n",
              "\n",
              "    .dataframe thead th {\n",
              "        text-align: right;\n",
              "    }\n",
              "</style>\n",
              "<table border=\"1\" class=\"dataframe\">\n",
              "  <thead>\n",
              "    <tr style=\"text-align: right;\">\n",
              "      <th></th>\n",
              "      <th>culmen-length</th>\n",
              "      <th>culmen-depth</th>\n",
              "      <th>flipper-length</th>\n",
              "      <th>body-mass</th>\n",
              "    </tr>\n",
              "  </thead>\n",
              "  <tbody>\n",
              "    <tr>\n",
              "      <th>count</th>\n",
              "      <td>342.000000</td>\n",
              "      <td>342.000000</td>\n",
              "      <td>342.000000</td>\n",
              "      <td>342.000000</td>\n",
              "    </tr>\n",
              "    <tr>\n",
              "      <th>mean</th>\n",
              "      <td>43.921930</td>\n",
              "      <td>17.151170</td>\n",
              "      <td>200.915205</td>\n",
              "      <td>4201.754386</td>\n",
              "    </tr>\n",
              "    <tr>\n",
              "      <th>std</th>\n",
              "      <td>5.459584</td>\n",
              "      <td>1.974793</td>\n",
              "      <td>14.061714</td>\n",
              "      <td>801.954536</td>\n",
              "    </tr>\n",
              "    <tr>\n",
              "      <th>min</th>\n",
              "      <td>32.100000</td>\n",
              "      <td>13.100000</td>\n",
              "      <td>172.000000</td>\n",
              "      <td>2700.000000</td>\n",
              "    </tr>\n",
              "    <tr>\n",
              "      <th>25%</th>\n",
              "      <td>39.225000</td>\n",
              "      <td>15.600000</td>\n",
              "      <td>190.000000</td>\n",
              "      <td>3550.000000</td>\n",
              "    </tr>\n",
              "    <tr>\n",
              "      <th>50%</th>\n",
              "      <td>44.450000</td>\n",
              "      <td>17.300000</td>\n",
              "      <td>197.000000</td>\n",
              "      <td>4050.000000</td>\n",
              "    </tr>\n",
              "    <tr>\n",
              "      <th>75%</th>\n",
              "      <td>48.500000</td>\n",
              "      <td>18.700000</td>\n",
              "      <td>213.000000</td>\n",
              "      <td>4750.000000</td>\n",
              "    </tr>\n",
              "    <tr>\n",
              "      <th>max</th>\n",
              "      <td>59.600000</td>\n",
              "      <td>21.500000</td>\n",
              "      <td>231.000000</td>\n",
              "      <td>6300.000000</td>\n",
              "    </tr>\n",
              "  </tbody>\n",
              "</table>\n",
              "</div>"
            ],
            "text/plain": [
              "       culmen-length  culmen-depth  flipper-length    body-mass\n",
              "count     342.000000    342.000000      342.000000   342.000000\n",
              "mean       43.921930     17.151170      200.915205  4201.754386\n",
              "std         5.459584      1.974793       14.061714   801.954536\n",
              "min        32.100000     13.100000      172.000000  2700.000000\n",
              "25%        39.225000     15.600000      190.000000  3550.000000\n",
              "50%        44.450000     17.300000      197.000000  4050.000000\n",
              "75%        48.500000     18.700000      213.000000  4750.000000\n",
              "max        59.600000     21.500000      231.000000  6300.000000"
            ]
          },
          "execution_count": 15,
          "metadata": {},
          "output_type": "execute_result"
        }
      ],
      "source": [
        "df.describe()"
      ]
    },
    {
      "cell_type": "code",
      "execution_count": null,
      "id": "f48e9fd1",
      "metadata": {
        "id": "f48e9fd1"
      },
      "outputs": [],
      "source": []
    },
    {
      "cell_type": "code",
      "execution_count": null,
      "id": "367bcd91",
      "metadata": {
        "id": "367bcd91",
        "outputId": "ec0b674a-a7ca-4353-e333-46b3b6312330"
      },
      "outputs": [
        {
          "name": "stdout",
          "output_type": "stream",
          "text": [
            "species            0\n",
            "island             0\n",
            "culmen-length      2\n",
            "culmen-depth       2\n",
            "flipper-length     2\n",
            "body-mass          2\n",
            "sex               10\n",
            "dtype: int64\n"
          ]
        }
      ],
      "source": [
        "missing_val = df.isnull().sum()\n",
        "print(missing_val)"
      ]
    },
    {
      "cell_type": "code",
      "execution_count": null,
      "id": "b9e6fbf6",
      "metadata": {
        "id": "b9e6fbf6",
        "outputId": "8d2a4090-3d4f-48e4-e169-86d407a10ab9"
      },
      "outputs": [
        {
          "name": "stdout",
          "output_type": "stream",
          "text": [
            "    species     island  culmen-length  culmen-depth  flipper-length  \\\n",
            "0    Adelie  Torgersen           39.1          18.7           181.0   \n",
            "1    Adelie  Torgersen           39.5          17.4           186.0   \n",
            "2    Adelie  Torgersen           40.3          18.0           195.0   \n",
            "4    Adelie  Torgersen           36.7          19.3           193.0   \n",
            "5    Adelie  Torgersen           39.3          20.6           190.0   \n",
            "..      ...        ...            ...           ...             ...   \n",
            "338  Gentoo     Biscoe           47.2          13.7           214.0   \n",
            "340  Gentoo     Biscoe           46.8          14.3           215.0   \n",
            "341  Gentoo     Biscoe           50.4          15.7           222.0   \n",
            "342  Gentoo     Biscoe           45.2          14.8           212.0   \n",
            "343  Gentoo     Biscoe           49.9          16.1           213.0   \n",
            "\n",
            "     body-mass     sex  \n",
            "0       3750.0    MALE  \n",
            "1       3800.0  FEMALE  \n",
            "2       3250.0  FEMALE  \n",
            "4       3450.0  FEMALE  \n",
            "5       3650.0    MALE  \n",
            "..         ...     ...  \n",
            "338     4925.0  FEMALE  \n",
            "340     4850.0  FEMALE  \n",
            "341     5750.0    MALE  \n",
            "342     5200.0  FEMALE  \n",
            "343     5400.0    MALE  \n",
            "\n",
            "[334 rows x 7 columns]\n"
          ]
        }
      ],
      "source": [
        "df = df.dropna()\n",
        "print(df)\n",
        "## removing rows with missing values"
      ]
    },
    {
      "cell_type": "code",
      "execution_count": null,
      "id": "d3675c49",
      "metadata": {
        "id": "d3675c49"
      },
      "outputs": [],
      "source": [
        "null = df.isnull().sum()"
      ]
    },
    {
      "cell_type": "code",
      "execution_count": null,
      "id": "8c20e057",
      "metadata": {
        "id": "8c20e057",
        "outputId": "c349b54c-4e8f-4b46-e74c-7529d2f5672f"
      },
      "outputs": [
        {
          "data": {
            "text/plain": [
              "species           0\n",
              "island            0\n",
              "culmen-length     0\n",
              "culmen-depth      0\n",
              "flipper-length    0\n",
              "body-mass         0\n",
              "sex               0\n",
              "dtype: int64"
            ]
          },
          "execution_count": 22,
          "metadata": {},
          "output_type": "execute_result"
        }
      ],
      "source": [
        "null"
      ]
    },
    {
      "cell_type": "code",
      "execution_count": null,
      "id": "e48bde35",
      "metadata": {
        "id": "e48bde35",
        "outputId": "336ab9c0-2fd8-4ede-d66e-869e2b6a4cfd"
      },
      "outputs": [
        {
          "name": "stdout",
          "output_type": "stream",
          "text": [
            "       species     island  culmen-length  culmen-depth  flipper-length  \\\n",
            "14      Adelie  Torgersen           34.6          21.1           198.0   \n",
            "19      Adelie  Torgersen           46.0          21.5           194.0   \n",
            "20      Adelie     Biscoe           37.8          18.3           174.0   \n",
            "28      Adelie     Biscoe           37.9          18.6           172.0   \n",
            "98      Adelie      Dream           33.1          16.1           178.0   \n",
            "142     Adelie      Dream           32.1          15.5           188.0   \n",
            "169  Chinstrap      Dream           58.0          17.8           181.0   \n",
            "183  Chinstrap      Dream           54.2          20.8           201.0   \n",
            "189  Chinstrap      Dream           52.0          20.7           210.0   \n",
            "190  Chinstrap      Dream           46.9          16.6           192.0   \n",
            "215  Chinstrap      Dream           55.8          19.8           207.0   \n",
            "237     Gentoo     Biscoe           49.2          15.2           221.0   \n",
            "253     Gentoo     Biscoe           59.6          17.0           230.0   \n",
            "283     Gentoo     Biscoe           54.3          15.7           231.0   \n",
            "311     Gentoo     Biscoe           52.2          17.1           228.0   \n",
            "321     Gentoo     Biscoe           55.9          17.0           228.0   \n",
            "335     Gentoo     Biscoe           55.1          16.0           230.0   \n",
            "\n",
            "     body-mass     sex  outlier  \n",
            "14      4400.0    MALE       -1  \n",
            "19      4200.0    MALE       -1  \n",
            "20      3400.0  FEMALE       -1  \n",
            "28      3150.0  FEMALE       -1  \n",
            "98      2900.0  FEMALE       -1  \n",
            "142     3050.0  FEMALE       -1  \n",
            "169     3700.0  FEMALE       -1  \n",
            "183     4300.0    MALE       -1  \n",
            "189     4800.0    MALE       -1  \n",
            "190     2700.0  FEMALE       -1  \n",
            "215     4000.0    MALE       -1  \n",
            "237     6300.0    MALE       -1  \n",
            "253     6050.0    MALE       -1  \n",
            "283     5650.0    MALE       -1  \n",
            "311     5400.0    MALE       -1  \n",
            "321     5600.0    MALE       -1  \n",
            "335     5850.0    MALE       -1  \n"
          ]
        }
      ],
      "source": [
        "from sklearn.ensemble import IsolationForest\n",
        "\n",
        "numerical_columns = ['culmen-length', 'culmen-depth', 'flipper-length', 'body-mass']\n",
        "##only numerical data is needed\n",
        "numerical_data = df[numerical_columns]\n",
        "##Isolation Forest model\n",
        "iso_forest = IsolationForest(contamination=0.05, random_state=42)\n",
        "## Fiting the model\n",
        "iso_forest.fit(numerical_data)\n",
        "##Predicting outliers\n",
        "outlier = iso_forest.predict(numerical_data)\n",
        "##Adding an 'outlier' column to data\n",
        "df['outlier'] = outlier\n",
        "##Display the rows identified as outliers\n",
        "outliers_data = df[df['outlier'] == -1]\n",
        "print(outliers_data)"
      ]
    },
    {
      "cell_type": "code",
      "execution_count": null,
      "id": "56142547",
      "metadata": {
        "id": "56142547"
      },
      "outputs": [],
      "source": [
        "## Removing rows with outliers\n",
        "df = df[df['outlier'] != -1]"
      ]
    },
    {
      "cell_type": "code",
      "execution_count": null,
      "id": "cb048575",
      "metadata": {
        "id": "cb048575",
        "outputId": "0e2c77bf-ebb9-4e32-aee9-085d1b9098d6"
      },
      "outputs": [
        {
          "name": "stdout",
          "output_type": "stream",
          "text": [
            "    species     island  culmen-length  culmen-depth  flipper-length  \\\n",
            "0    Adelie  Torgersen           39.1          18.7           181.0   \n",
            "1    Adelie  Torgersen           39.5          17.4           186.0   \n",
            "2    Adelie  Torgersen           40.3          18.0           195.0   \n",
            "4    Adelie  Torgersen           36.7          19.3           193.0   \n",
            "5    Adelie  Torgersen           39.3          20.6           190.0   \n",
            "..      ...        ...            ...           ...             ...   \n",
            "338  Gentoo     Biscoe           47.2          13.7           214.0   \n",
            "340  Gentoo     Biscoe           46.8          14.3           215.0   \n",
            "341  Gentoo     Biscoe           50.4          15.7           222.0   \n",
            "342  Gentoo     Biscoe           45.2          14.8           212.0   \n",
            "343  Gentoo     Biscoe           49.9          16.1           213.0   \n",
            "\n",
            "     body-mass     sex  outlier  \n",
            "0       3750.0    MALE        1  \n",
            "1       3800.0  FEMALE        1  \n",
            "2       3250.0  FEMALE        1  \n",
            "4       3450.0  FEMALE        1  \n",
            "5       3650.0    MALE        1  \n",
            "..         ...     ...      ...  \n",
            "338     4925.0  FEMALE        1  \n",
            "340     4850.0  FEMALE        1  \n",
            "341     5750.0    MALE        1  \n",
            "342     5200.0  FEMALE        1  \n",
            "343     5400.0    MALE        1  \n",
            "\n",
            "[317 rows x 8 columns]\n"
          ]
        }
      ],
      "source": [
        "print(df)"
      ]
    },
    {
      "cell_type": "code",
      "execution_count": null,
      "id": "5b5e295a",
      "metadata": {
        "id": "5b5e295a"
      },
      "outputs": [],
      "source": [
        "from sklearn.model_selection import train_test_split\n",
        "targetvariable = 'species'\n",
        "independentvariables = df.columns.difference([targetvariable])\n",
        "x_train, x_test, y_train, y_test = train_test_split(df[independentvariables], df[targetvariable], test_size=0.2, random_state=42)"
      ]
    },
    {
      "cell_type": "code",
      "execution_count": null,
      "id": "f50c8dba",
      "metadata": {
        "id": "f50c8dba",
        "outputId": "7389fd88-296b-4a78-cffb-3d4873c9ded1"
      },
      "outputs": [
        {
          "data": {
            "text/html": [
              "<div>\n",
              "<style scoped>\n",
              "    .dataframe tbody tr th:only-of-type {\n",
              "        vertical-align: middle;\n",
              "    }\n",
              "\n",
              "    .dataframe tbody tr th {\n",
              "        vertical-align: top;\n",
              "    }\n",
              "\n",
              "    .dataframe thead th {\n",
              "        text-align: right;\n",
              "    }\n",
              "</style>\n",
              "<table border=\"1\" class=\"dataframe\">\n",
              "  <thead>\n",
              "    <tr style=\"text-align: right;\">\n",
              "      <th></th>\n",
              "      <th>body-mass</th>\n",
              "      <th>culmen-depth</th>\n",
              "      <th>culmen-length</th>\n",
              "      <th>flipper-length</th>\n",
              "      <th>island</th>\n",
              "      <th>outlier</th>\n",
              "      <th>sex</th>\n",
              "    </tr>\n",
              "  </thead>\n",
              "  <tbody>\n",
              "    <tr>\n",
              "      <th>226</th>\n",
              "      <td>4800.0</td>\n",
              "      <td>14.6</td>\n",
              "      <td>45.4</td>\n",
              "      <td>211.0</td>\n",
              "      <td>Biscoe</td>\n",
              "      <td>1</td>\n",
              "      <td>FEMALE</td>\n",
              "    </tr>\n",
              "    <tr>\n",
              "      <th>86</th>\n",
              "      <td>3800.0</td>\n",
              "      <td>19.5</td>\n",
              "      <td>36.3</td>\n",
              "      <td>190.0</td>\n",
              "      <td>Dream</td>\n",
              "      <td>1</td>\n",
              "      <td>MALE</td>\n",
              "    </tr>\n",
              "    <tr>\n",
              "      <th>105</th>\n",
              "      <td>3550.0</td>\n",
              "      <td>18.9</td>\n",
              "      <td>39.7</td>\n",
              "      <td>184.0</td>\n",
              "      <td>Biscoe</td>\n",
              "      <td>1</td>\n",
              "      <td>MALE</td>\n",
              "    </tr>\n",
              "    <tr>\n",
              "      <th>239</th>\n",
              "      <td>5350.0</td>\n",
              "      <td>15.1</td>\n",
              "      <td>48.7</td>\n",
              "      <td>222.0</td>\n",
              "      <td>Biscoe</td>\n",
              "      <td>1</td>\n",
              "      <td>MALE</td>\n",
              "    </tr>\n",
              "    <tr>\n",
              "      <th>334</th>\n",
              "      <td>4375.0</td>\n",
              "      <td>14.1</td>\n",
              "      <td>46.2</td>\n",
              "      <td>217.0</td>\n",
              "      <td>Biscoe</td>\n",
              "      <td>1</td>\n",
              "      <td>FEMALE</td>\n",
              "    </tr>\n",
              "    <tr>\n",
              "      <th>...</th>\n",
              "      <td>...</td>\n",
              "      <td>...</td>\n",
              "      <td>...</td>\n",
              "      <td>...</td>\n",
              "      <td>...</td>\n",
              "      <td>...</td>\n",
              "      <td>...</td>\n",
              "    </tr>\n",
              "    <tr>\n",
              "      <th>204</th>\n",
              "      <td>3600.0</td>\n",
              "      <td>17.3</td>\n",
              "      <td>45.7</td>\n",
              "      <td>193.0</td>\n",
              "      <td>Dream</td>\n",
              "      <td>1</td>\n",
              "      <td>FEMALE</td>\n",
              "    </tr>\n",
              "    <tr>\n",
              "      <th>81</th>\n",
              "      <td>4700.0</td>\n",
              "      <td>17.6</td>\n",
              "      <td>42.9</td>\n",
              "      <td>196.0</td>\n",
              "      <td>Torgersen</td>\n",
              "      <td>1</td>\n",
              "      <td>MALE</td>\n",
              "    </tr>\n",
              "    <tr>\n",
              "      <th>117</th>\n",
              "      <td>3775.0</td>\n",
              "      <td>20.5</td>\n",
              "      <td>37.3</td>\n",
              "      <td>199.0</td>\n",
              "      <td>Torgersen</td>\n",
              "      <td>1</td>\n",
              "      <td>MALE</td>\n",
              "    </tr>\n",
              "    <tr>\n",
              "      <th>292</th>\n",
              "      <td>5100.0</td>\n",
              "      <td>15.6</td>\n",
              "      <td>48.2</td>\n",
              "      <td>221.0</td>\n",
              "      <td>Biscoe</td>\n",
              "      <td>1</td>\n",
              "      <td>MALE</td>\n",
              "    </tr>\n",
              "    <tr>\n",
              "      <th>113</th>\n",
              "      <td>4275.0</td>\n",
              "      <td>19.5</td>\n",
              "      <td>42.2</td>\n",
              "      <td>197.0</td>\n",
              "      <td>Biscoe</td>\n",
              "      <td>1</td>\n",
              "      <td>MALE</td>\n",
              "    </tr>\n",
              "  </tbody>\n",
              "</table>\n",
              "<p>253 rows × 7 columns</p>\n",
              "</div>"
            ],
            "text/plain": [
              "     body-mass  culmen-depth  culmen-length  flipper-length     island  \\\n",
              "226     4800.0          14.6           45.4           211.0     Biscoe   \n",
              "86      3800.0          19.5           36.3           190.0      Dream   \n",
              "105     3550.0          18.9           39.7           184.0     Biscoe   \n",
              "239     5350.0          15.1           48.7           222.0     Biscoe   \n",
              "334     4375.0          14.1           46.2           217.0     Biscoe   \n",
              "..         ...           ...            ...             ...        ...   \n",
              "204     3600.0          17.3           45.7           193.0      Dream   \n",
              "81      4700.0          17.6           42.9           196.0  Torgersen   \n",
              "117     3775.0          20.5           37.3           199.0  Torgersen   \n",
              "292     5100.0          15.6           48.2           221.0     Biscoe   \n",
              "113     4275.0          19.5           42.2           197.0     Biscoe   \n",
              "\n",
              "     outlier     sex  \n",
              "226        1  FEMALE  \n",
              "86         1    MALE  \n",
              "105        1    MALE  \n",
              "239        1    MALE  \n",
              "334        1  FEMALE  \n",
              "..       ...     ...  \n",
              "204        1  FEMALE  \n",
              "81         1    MALE  \n",
              "117        1    MALE  \n",
              "292        1    MALE  \n",
              "113        1    MALE  \n",
              "\n",
              "[253 rows x 7 columns]"
            ]
          },
          "execution_count": 31,
          "metadata": {},
          "output_type": "execute_result"
        }
      ],
      "source": [
        "x_train"
      ]
    },
    {
      "cell_type": "code",
      "execution_count": null,
      "id": "dc168078",
      "metadata": {
        "id": "dc168078",
        "outputId": "794f968f-b978-4013-d46d-ac38045d5ee4"
      },
      "outputs": [
        {
          "data": {
            "text/html": [
              "<div>\n",
              "<style scoped>\n",
              "    .dataframe tbody tr th:only-of-type {\n",
              "        vertical-align: middle;\n",
              "    }\n",
              "\n",
              "    .dataframe tbody tr th {\n",
              "        vertical-align: top;\n",
              "    }\n",
              "\n",
              "    .dataframe thead th {\n",
              "        text-align: right;\n",
              "    }\n",
              "</style>\n",
              "<table border=\"1\" class=\"dataframe\">\n",
              "  <thead>\n",
              "    <tr style=\"text-align: right;\">\n",
              "      <th></th>\n",
              "      <th>body-mass</th>\n",
              "      <th>culmen-depth</th>\n",
              "      <th>culmen-length</th>\n",
              "      <th>flipper-length</th>\n",
              "      <th>island</th>\n",
              "      <th>outlier</th>\n",
              "      <th>sex</th>\n",
              "    </tr>\n",
              "  </thead>\n",
              "  <tbody>\n",
              "    <tr>\n",
              "      <th>83</th>\n",
              "      <td>4200.0</td>\n",
              "      <td>19.4</td>\n",
              "      <td>35.1</td>\n",
              "      <td>193.0</td>\n",
              "      <td>Torgersen</td>\n",
              "      <td>1</td>\n",
              "      <td>MALE</td>\n",
              "    </tr>\n",
              "    <tr>\n",
              "      <th>302</th>\n",
              "      <td>4725.0</td>\n",
              "      <td>14.6</td>\n",
              "      <td>47.4</td>\n",
              "      <td>212.0</td>\n",
              "      <td>Biscoe</td>\n",
              "      <td>1</td>\n",
              "      <td>FEMALE</td>\n",
              "    </tr>\n",
              "    <tr>\n",
              "      <th>34</th>\n",
              "      <td>3325.0</td>\n",
              "      <td>17.0</td>\n",
              "      <td>36.4</td>\n",
              "      <td>195.0</td>\n",
              "      <td>Dream</td>\n",
              "      <td>1</td>\n",
              "      <td>FEMALE</td>\n",
              "    </tr>\n",
              "    <tr>\n",
              "      <th>275</th>\n",
              "      <td>5050.0</td>\n",
              "      <td>15.4</td>\n",
              "      <td>45.0</td>\n",
              "      <td>220.0</td>\n",
              "      <td>Biscoe</td>\n",
              "      <td>1</td>\n",
              "      <td>MALE</td>\n",
              "    </tr>\n",
              "    <tr>\n",
              "      <th>15</th>\n",
              "      <td>3700.0</td>\n",
              "      <td>17.8</td>\n",
              "      <td>36.6</td>\n",
              "      <td>185.0</td>\n",
              "      <td>Torgersen</td>\n",
              "      <td>1</td>\n",
              "      <td>FEMALE</td>\n",
              "    </tr>\n",
              "    <tr>\n",
              "      <th>...</th>\n",
              "      <td>...</td>\n",
              "      <td>...</td>\n",
              "      <td>...</td>\n",
              "      <td>...</td>\n",
              "      <td>...</td>\n",
              "      <td>...</td>\n",
              "      <td>...</td>\n",
              "    </tr>\n",
              "    <tr>\n",
              "      <th>236</th>\n",
              "      <td>4150.0</td>\n",
              "      <td>13.5</td>\n",
              "      <td>42.0</td>\n",
              "      <td>210.0</td>\n",
              "      <td>Biscoe</td>\n",
              "      <td>1</td>\n",
              "      <td>FEMALE</td>\n",
              "    </tr>\n",
              "    <tr>\n",
              "      <th>225</th>\n",
              "      <td>4550.0</td>\n",
              "      <td>13.5</td>\n",
              "      <td>46.5</td>\n",
              "      <td>210.0</td>\n",
              "      <td>Biscoe</td>\n",
              "      <td>1</td>\n",
              "      <td>FEMALE</td>\n",
              "    </tr>\n",
              "    <tr>\n",
              "      <th>120</th>\n",
              "      <td>3150.0</td>\n",
              "      <td>17.2</td>\n",
              "      <td>36.2</td>\n",
              "      <td>187.0</td>\n",
              "      <td>Torgersen</td>\n",
              "      <td>1</td>\n",
              "      <td>FEMALE</td>\n",
              "    </tr>\n",
              "    <tr>\n",
              "      <th>104</th>\n",
              "      <td>2925.0</td>\n",
              "      <td>18.6</td>\n",
              "      <td>37.9</td>\n",
              "      <td>193.0</td>\n",
              "      <td>Biscoe</td>\n",
              "      <td>1</td>\n",
              "      <td>FEMALE</td>\n",
              "    </tr>\n",
              "    <tr>\n",
              "      <th>135</th>\n",
              "      <td>3900.0</td>\n",
              "      <td>17.5</td>\n",
              "      <td>41.1</td>\n",
              "      <td>190.0</td>\n",
              "      <td>Dream</td>\n",
              "      <td>1</td>\n",
              "      <td>MALE</td>\n",
              "    </tr>\n",
              "  </tbody>\n",
              "</table>\n",
              "<p>64 rows × 7 columns</p>\n",
              "</div>"
            ],
            "text/plain": [
              "     body-mass  culmen-depth  culmen-length  flipper-length     island  \\\n",
              "83      4200.0          19.4           35.1           193.0  Torgersen   \n",
              "302     4725.0          14.6           47.4           212.0     Biscoe   \n",
              "34      3325.0          17.0           36.4           195.0      Dream   \n",
              "275     5050.0          15.4           45.0           220.0     Biscoe   \n",
              "15      3700.0          17.8           36.6           185.0  Torgersen   \n",
              "..         ...           ...            ...             ...        ...   \n",
              "236     4150.0          13.5           42.0           210.0     Biscoe   \n",
              "225     4550.0          13.5           46.5           210.0     Biscoe   \n",
              "120     3150.0          17.2           36.2           187.0  Torgersen   \n",
              "104     2925.0          18.6           37.9           193.0     Biscoe   \n",
              "135     3900.0          17.5           41.1           190.0      Dream   \n",
              "\n",
              "     outlier     sex  \n",
              "83         1    MALE  \n",
              "302        1  FEMALE  \n",
              "34         1  FEMALE  \n",
              "275        1    MALE  \n",
              "15         1  FEMALE  \n",
              "..       ...     ...  \n",
              "236        1  FEMALE  \n",
              "225        1  FEMALE  \n",
              "120        1  FEMALE  \n",
              "104        1  FEMALE  \n",
              "135        1    MALE  \n",
              "\n",
              "[64 rows x 7 columns]"
            ]
          },
          "execution_count": 32,
          "metadata": {},
          "output_type": "execute_result"
        }
      ],
      "source": [
        "x_test"
      ]
    },
    {
      "cell_type": "code",
      "execution_count": null,
      "id": "e26e9a1d",
      "metadata": {
        "id": "e26e9a1d",
        "outputId": "9977e505-0eb9-4ee4-dcc4-801f96242a91"
      },
      "outputs": [
        {
          "data": {
            "text/plain": [
              "226       Gentoo\n",
              "86        Adelie\n",
              "105       Adelie\n",
              "239       Gentoo\n",
              "334       Gentoo\n",
              "         ...    \n",
              "204    Chinstrap\n",
              "81        Adelie\n",
              "117       Adelie\n",
              "292       Gentoo\n",
              "113       Adelie\n",
              "Name: species, Length: 253, dtype: object"
            ]
          },
          "execution_count": 33,
          "metadata": {},
          "output_type": "execute_result"
        }
      ],
      "source": [
        "y_train"
      ]
    },
    {
      "cell_type": "code",
      "execution_count": null,
      "id": "16e89c88",
      "metadata": {
        "id": "16e89c88",
        "outputId": "508b1b35-1729-456f-bba0-02664ef5280e"
      },
      "outputs": [
        {
          "data": {
            "text/plain": [
              "83     Adelie\n",
              "302    Gentoo\n",
              "34     Adelie\n",
              "275    Gentoo\n",
              "15     Adelie\n",
              "        ...  \n",
              "236    Gentoo\n",
              "225    Gentoo\n",
              "120    Adelie\n",
              "104    Adelie\n",
              "135    Adelie\n",
              "Name: species, Length: 64, dtype: object"
            ]
          },
          "execution_count": 34,
          "metadata": {},
          "output_type": "execute_result"
        }
      ],
      "source": [
        "y_test"
      ]
    },
    {
      "cell_type": "code",
      "execution_count": null,
      "id": "2ec6d794",
      "metadata": {
        "id": "2ec6d794"
      },
      "outputs": [],
      "source": []
    }
  ],
  "metadata": {
    "kernelspec": {
      "display_name": "Python 3 (ipykernel)",
      "language": "python",
      "name": "python3"
    },
    "language_info": {
      "codemirror_mode": {
        "name": "ipython",
        "version": 3
      },
      "file_extension": ".py",
      "mimetype": "text/x-python",
      "name": "python",
      "nbconvert_exporter": "python",
      "pygments_lexer": "ipython3",
      "version": "3.11.4"
    },
    "colab": {
      "provenance": []
    }
  },
  "nbformat": 4,
  "nbformat_minor": 5
}